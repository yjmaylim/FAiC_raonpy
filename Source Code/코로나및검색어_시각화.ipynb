{
  "nbformat": 4,
  "nbformat_minor": 0,
  "metadata": {
    "colab": {
      "name": "코로나및검색어_시각화.ipynb",
      "provenance": [],
      "collapsed_sections": []
    },
    "kernelspec": {
      "name": "python3",
      "display_name": "Python 3"
    }
  },
  "cells": [
    {
      "cell_type": "code",
      "metadata": {
        "colab": {
          "resources": {
            "http://localhost:8080/nbextensions/google.colab/files.js": {
              "data": "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",
              "ok": true,
              "headers": [
                [
                  "content-type",
                  "application/javascript"
                ]
              ],
              "status": 200,
              "status_text": ""
            }
          },
          "base_uri": "https://localhost:8080/",
          "height": 72
        },
        "id": "k2XRAdQR54R8",
        "outputId": "ff5b2294-b9ac-4ce3-be63-b9bb793bb62f"
      },
      "source": [
        "from google.colab import files \n",
        "import pandas as pd\n",
        "import numpy as np\n",
        "import io\n",
        "uploaded = files.upload()\n",
        "df = pd.read_excel(io.BytesIO(uploaded['datalab (1).xlsx']))"
      ],
      "execution_count": null,
      "outputs": [
        {
          "output_type": "display_data",
          "data": {
            "text/html": [
              "\n",
              "     <input type=\"file\" id=\"files-4fc7dea5-0d88-4894-833c-e81d31b2af45\" name=\"files[]\" multiple disabled\n",
              "        style=\"border:none\" />\n",
              "     <output id=\"result-4fc7dea5-0d88-4894-833c-e81d31b2af45\">\n",
              "      Upload widget is only available when the cell has been executed in the\n",
              "      current browser session. Please rerun this cell to enable.\n",
              "      </output>\n",
              "      <script src=\"/nbextensions/google.colab/files.js\"></script> "
            ],
            "text/plain": [
              "<IPython.core.display.HTML object>"
            ]
          },
          "metadata": {
            "tags": []
          }
        },
        {
          "output_type": "stream",
          "text": [
            "Saving datalab (1).xlsx to datalab (1) (2).xlsx\n"
          ],
          "name": "stdout"
        }
      ]
    },
    {
      "cell_type": "code",
      "metadata": {
        "colab": {
          "base_uri": "https://localhost:8080/"
        },
        "id": "xhYWYBY57FEN",
        "outputId": "fa547da4-3c5f-448c-c851-6c084103ae9c"
      },
      "source": [
        "df2 = pd.DataFrame.to_numpy(df)\n",
        "df2"
      ],
      "execution_count": null,
      "outputs": [
        {
          "output_type": "execute_result",
          "data": {
            "text/plain": [
              "array([['주제', '통검'],\n",
              "       ['범위', '합계'],\n",
              "       ['기간', '일간 : 2020-03-10 ~ 2020-12-09'],\n",
              "       ['성별', '전체(여성,남성)'],\n",
              "       ['연령대', '전체'],\n",
              "       ['날짜', '코로나'],\n",
              "       ['2020-03-10', '74.36372'],\n",
              "       ['2020-03-11', '83.11578'],\n",
              "       ['2020-03-12', '66.7605'],\n",
              "       ['2020-03-13', '58.20882'],\n",
              "       ['2020-03-14', '44.94788'],\n",
              "       ['2020-03-15', '39.76615'],\n",
              "       ['2020-03-16', '51.50335'],\n",
              "       ['2020-03-17', '50.88367'],\n",
              "       ['2020-03-18', '47.17463'],\n",
              "       ['2020-03-19', '41.72313'],\n",
              "       ['2020-03-20', '39.65042'],\n",
              "       ['2020-03-21', '34.40645'],\n",
              "       ['2020-03-22', '33.59356'],\n",
              "       ['2020-03-23', '38.39938'],\n",
              "       ['2020-03-24', '38.33641'],\n",
              "       ['2020-03-25', '36.28508'],\n",
              "       ['2020-03-26', '35.70448'],\n",
              "       ['2020-03-27', '35.65503'],\n",
              "       ['2020-03-28', '33.66829'],\n",
              "       ['2020-03-29', '30.21181'],\n",
              "       ['2020-03-30', '32.71646'],\n",
              "       ['2020-03-31', '31.85173'],\n",
              "       ['2020-04-01', '29.18896'],\n",
              "       ['2020-04-02', '29.67969'],\n",
              "       ['2020-04-03', '29.3049'],\n",
              "       ['2020-04-04', '23.43484'],\n",
              "       ['2020-04-05', '22.51266'],\n",
              "       ['2020-04-06', '28.68315'],\n",
              "       ['2020-04-07', '30.92469'],\n",
              "       ['2020-04-08', '28.79102'],\n",
              "       ['2020-04-09', '27.88728'],\n",
              "       ['2020-04-10', '32.94206'],\n",
              "       ['2020-04-11', '29.81517'],\n",
              "       ['2020-04-12', '24.67184'],\n",
              "       ['2020-04-13', '28.35932'],\n",
              "       ['2020-04-14', '26.57987'],\n",
              "       ['2020-04-15', '25.66638'],\n",
              "       ['2020-04-16', '31.39446'],\n",
              "       ['2020-04-17', '24.94879'],\n",
              "       ['2020-04-18', '19.79468'],\n",
              "       ['2020-04-19', '22.54943'],\n",
              "       ['2020-04-20', '27.37209'],\n",
              "       ['2020-04-21', '22.61189'],\n",
              "       ['2020-04-22', '22.53332'],\n",
              "       ['2020-04-23', '20.93932'],\n",
              "       ['2020-04-24', '21.12754'],\n",
              "       ['2020-04-25', '18.90453'],\n",
              "       ['2020-04-26', '17.45228'],\n",
              "       ['2020-04-27', '19.39407'],\n",
              "       ['2020-04-28', '17.85688'],\n",
              "       ['2020-04-29', '17.4656'],\n",
              "       ['2020-04-30', '15.62118'],\n",
              "       ['2020-05-01', '17.67352'],\n",
              "       ['2020-05-02', '17.16224'],\n",
              "       ['2020-05-03', '17.34227'],\n",
              "       ['2020-05-04', '18.08097'],\n",
              "       ['2020-05-05', '14.37997'],\n",
              "       ['2020-05-06', '17.85084'],\n",
              "       ['2020-05-07', '20.92562'],\n",
              "       ['2020-05-08', '38.43978'],\n",
              "       ['2020-05-09', '43.85285'],\n",
              "       ['2020-05-10', '44.30205'],\n",
              "       ['2020-05-11', '51.16513'],\n",
              "       ['2020-05-12', '40.35899'],\n",
              "       ['2020-05-13', '37.37077'],\n",
              "       ['2020-05-14', '31.44493'],\n",
              "       ['2020-05-15', '24.09851'],\n",
              "       ['2020-05-16', '17.54764'],\n",
              "       ['2020-05-17', '15.60617'],\n",
              "       ['2020-05-18', '19.30136'],\n",
              "       ['2020-05-19', '17.8781'],\n",
              "       ['2020-05-20', '23.20613'],\n",
              "       ['2020-05-21', '20.76179'],\n",
              "       ['2020-05-22', '18.65141'],\n",
              "       ['2020-05-23', '15.12945'],\n",
              "       ['2020-05-24', '14.23878'],\n",
              "       ['2020-05-25', '17.29118'],\n",
              "       ['2020-05-26', '17.17181'],\n",
              "       ['2020-05-27', '25.08804'],\n",
              "       ['2020-05-28', '37.60021'],\n",
              "       ['2020-05-29', '30.31351'],\n",
              "       ['2020-05-30', '19.75623'],\n",
              "       ['2020-05-31', '18.19747'],\n",
              "       ['2020-06-01', '20.70919'],\n",
              "       ['2020-06-02', '18.85458'],\n",
              "       ['2020-06-03', '19.16608'],\n",
              "       ['2020-06-04', '17.92481'],\n",
              "       ['2020-06-05', '17.14755'],\n",
              "       ['2020-06-06', '15.81186'],\n",
              "       ['2020-06-07', '16.3701'],\n",
              "       ['2020-06-08', '19.84741'],\n",
              "       ['2020-06-09', '19.44754'],\n",
              "       ['2020-06-10', '17.55579'],\n",
              "       ['2020-06-11', '17.58512'],\n",
              "       ['2020-06-12', '18.48953'],\n",
              "       ['2020-06-13', '13.92995'],\n",
              "       ['2020-06-14', '13.24241'],\n",
              "       ['2020-06-15', '17.21471'],\n",
              "       ['2020-06-16', '15.79349'],\n",
              "       ['2020-06-17', '16.11536'],\n",
              "       ['2020-06-18', '15.4595'],\n",
              "       ['2020-06-19', '14.96639'],\n",
              "       ['2020-06-20', '14.66518'],\n",
              "       ['2020-06-21', '14.24085'],\n",
              "       ['2020-06-22', '17.78739'],\n",
              "       ['2020-06-23', '17.3309'],\n",
              "       ['2020-06-24', '14.87886'],\n",
              "       ['2020-06-25', '14.3872'],\n",
              "       ['2020-06-26', '14.20548'],\n",
              "       ['2020-06-27', '12.8407'],\n",
              "       ['2020-06-28', '14.19629'],\n",
              "       ['2020-06-29', '16.59829'],\n",
              "       ['2020-06-30', '13.77753'],\n",
              "       ['2020-07-01', '15.00806'],\n",
              "       ['2020-07-02', '16.12543'],\n",
              "       ['2020-07-03', '16.59548'],\n",
              "       ['2020-07-04', '14.71621'],\n",
              "       ['2020-07-05', '13.987'],\n",
              "       ['2020-07-06', '15.93039'],\n",
              "       ['2020-07-07', '14.05161'],\n",
              "       ['2020-07-08', '14.33177'],\n",
              "       ['2020-07-09', '13.56812'],\n",
              "       ['2020-07-10', '10.59163'],\n",
              "       ['2020-07-11', '9.58498'],\n",
              "       ['2020-07-12', '9.70501'],\n",
              "       ['2020-07-13', '11.43443'],\n",
              "       ['2020-07-14', '11.55373'],\n",
              "       ['2020-07-15', '10.58195'],\n",
              "       ['2020-07-16', '11.0836'],\n",
              "       ['2020-07-17', '11.40415'],\n",
              "       ['2020-07-18', '9.29466'],\n",
              "       ['2020-07-19', '8.70002'],\n",
              "       ['2020-07-20', '11.81194'],\n",
              "       ['2020-07-21', '11.50366'],\n",
              "       ['2020-07-22', '11.7452'],\n",
              "       ['2020-07-23', '11.07063'],\n",
              "       ['2020-07-24', '11.00999'],\n",
              "       ['2020-07-25', '12.63975'],\n",
              "       ['2020-07-26', '10.18067'],\n",
              "       ['2020-07-27', '9.83745'],\n",
              "       ['2020-07-28', '9.49833'],\n",
              "       ['2020-07-29', '9.29875'],\n",
              "       ['2020-07-30', '9.87001'],\n",
              "       ['2020-07-31', '9.18109'],\n",
              "       ['2020-08-01', '7.78649'],\n",
              "       ['2020-08-02', '8.09106'],\n",
              "       ['2020-08-03', '9.40809'],\n",
              "       ['2020-08-04', '10.04151'],\n",
              "       ['2020-08-05', '9.46376'],\n",
              "       ['2020-08-06', '8.77466'],\n",
              "       ['2020-08-07', '8.03523'],\n",
              "       ['2020-08-08', '7.21954'],\n",
              "       ['2020-08-09', '7.58547'],\n",
              "       ['2020-08-10', '8.70198'],\n",
              "       ['2020-08-11', '8.9008'],\n",
              "       ['2020-08-12', '9.45371'],\n",
              "       ['2020-08-13', '10.62933'],\n",
              "       ['2020-08-14', '30.4246'],\n",
              "       ['2020-08-15', '32.54438'],\n",
              "       ['2020-08-16', '51.57695'],\n",
              "       ['2020-08-17', '53.83928'],\n",
              "       ['2020-08-18', '65.39554'],\n",
              "       ['2020-08-19', '67.35261'],\n",
              "       ['2020-08-20', '63.9671'],\n",
              "       ['2020-08-21', '58.87763'],\n",
              "       ['2020-08-22', '47.31464'],\n",
              "       ['2020-08-23', '50.74664'],\n",
              "       ['2020-08-24', '69.02453'],\n",
              "       ['2020-08-25', '62.57681'],\n",
              "       ['2020-08-26', '59.69638'],\n",
              "       ['2020-08-27', '70.78371'],\n",
              "       ['2020-08-28', '61.28208'],\n",
              "       ['2020-08-29', '40.74211'],\n",
              "       ['2020-08-30', '36.83029'],\n",
              "       ['2020-08-31', '49.2562'],\n",
              "       ['2020-09-01', '44.96764'],\n",
              "       ['2020-09-02', '42.22378'],\n",
              "       ['2020-09-03', '39.31208'],\n",
              "       ['2020-09-04', '42.46842'],\n",
              "       ['2020-09-05', '24.88757'],\n",
              "       ['2020-09-06', '22.88245'],\n",
              "       ['2020-09-07', '31.01639'],\n",
              "       ['2020-09-08', '30.61479'],\n",
              "       ['2020-09-09', '30.06635'],\n",
              "       ['2020-09-10', '28.77269'],\n",
              "       ['2020-09-11', '27.68928'],\n",
              "       ['2020-09-12', '23.17629'],\n",
              "       ['2020-09-13', '28.1365'],\n",
              "       ['2020-09-14', '25.10715'],\n",
              "       ['2020-09-15', '24.06293'],\n",
              "       ['2020-09-16', '23.70329'],\n",
              "       ['2020-09-17', '25.67364'],\n",
              "       ['2020-09-18', '22.45663'],\n",
              "       ['2020-09-19', '18.67558'],\n",
              "       ['2020-09-20', '18.57364'],\n",
              "       ['2020-09-21', '23.96474'],\n",
              "       ['2020-09-22', '24.64754'],\n",
              "       ['2020-09-23', '23.74213'],\n",
              "       ['2020-09-24', '22.20338'],\n",
              "       ['2020-09-25', '19.27663'],\n",
              "       ['2020-09-26', '16.68712'],\n",
              "       ['2020-09-27', '15.72465'],\n",
              "       ['2020-09-28', '18.98587'],\n",
              "       ['2020-09-29', '19.35575'],\n",
              "       ['2020-09-30', '20.03793'],\n",
              "       ['2020-10-01', '19.77131'],\n",
              "       ['2020-10-02', '20.07234'],\n",
              "       ['2020-10-03', '17.51221'],\n",
              "       ['2020-10-04', '17.40261'],\n",
              "       ['2020-10-05', '22.85215'],\n",
              "       ['2020-10-06', '20.18319'],\n",
              "       ['2020-10-07', '21.07952'],\n",
              "       ['2020-10-08', '20.14629'],\n",
              "       ['2020-10-09', '15.25417'],\n",
              "       ['2020-10-10', '14.56257'],\n",
              "       ['2020-10-11', '21.06235'],\n",
              "       ['2020-10-12', '22.95051'],\n",
              "       ['2020-10-13', '20.96873'],\n",
              "       ['2020-10-14', '23.8449'],\n",
              "       ['2020-10-15', '21.55957'],\n",
              "       ['2020-10-16', '20.07642'],\n",
              "       ['2020-10-17', '14.0672'],\n",
              "       ['2020-10-18', '13.59637'],\n",
              "       ['2020-10-19', '16.11146'],\n",
              "       ['2020-10-20', '14.48873'],\n",
              "       ['2020-10-21', '15.12464'],\n",
              "       ['2020-10-22', '18.24605'],\n",
              "       ['2020-10-23', '21.87183'],\n",
              "       ['2020-10-24', '15.8005'],\n",
              "       ['2020-10-25', '12.50054'],\n",
              "       ['2020-10-26', '17.20375'],\n",
              "       ['2020-10-27', '15.79088'],\n",
              "       ['2020-10-28', '15.57278'],\n",
              "       ['2020-10-29', '16.85518'],\n",
              "       ['2020-10-30', '14.66074'],\n",
              "       ['2020-10-31', '13.46812'],\n",
              "       ['2020-11-01', '20.27929'],\n",
              "       ['2020-11-02', '17.63986'],\n",
              "       ['2020-11-03', '12.94553'],\n",
              "       ['2020-11-04', '13.37623'],\n",
              "       ['2020-11-05', '14.18821'],\n",
              "       ['2020-11-06', '14.01305'],\n",
              "       ['2020-11-07', '10.9256'],\n",
              "       ['2020-11-08', '11.41168'],\n",
              "       ['2020-11-09', '14.81368'],\n",
              "       ['2020-11-10', '13.13139'],\n",
              "       ['2020-11-11', '13.05617'],\n",
              "       ['2020-11-12', '14.38685'],\n",
              "       ['2020-11-13', '23.16298'],\n",
              "       ['2020-11-14', '22.94023'],\n",
              "       ['2020-11-15', '22.89106'],\n",
              "       ['2020-11-16', '31.53706'],\n",
              "       ['2020-11-17', '28.45636'],\n",
              "       ['2020-11-18', '46.87407'],\n",
              "       ['2020-11-19', '51.30408'],\n",
              "       ['2020-11-20', '49.24019'],\n",
              "       ['2020-11-21', '43.55865'],\n",
              "       ['2020-11-22', '43.05942'],\n",
              "       ['2020-11-23', '44.26888'],\n",
              "       ['2020-11-24', '39.18751'],\n",
              "       ['2020-11-25', '46.9544'],\n",
              "       ['2020-11-26', '100.0'],\n",
              "       ['2020-11-27', '74.45768'],\n",
              "       ['2020-11-28', '52.91781'],\n",
              "       ['2020-11-29', '55.73989'],\n",
              "       ['2020-11-30', '64.19201'],\n",
              "       ['2020-12-01', '44.48562'],\n",
              "       ['2020-12-02', '42.81268'],\n",
              "       ['2020-12-03', '43.4161'],\n",
              "       ['2020-12-04', '64.01308'],\n",
              "       ['2020-12-05', '45.75382'],\n",
              "       ['2020-12-06', '49.37483'],\n",
              "       ['2020-12-07', '51.5707'],\n",
              "       ['2020-12-08', '44.70013'],\n",
              "       ['2020-12-09', '47.28852']], dtype=object)"
            ]
          },
          "metadata": {
            "tags": []
          },
          "execution_count": 83
        }
      ]
    },
    {
      "cell_type": "code",
      "metadata": {
        "colab": {
          "base_uri": "https://localhost:8080/"
        },
        "id": "6Wbh2nF1Bfin",
        "outputId": "9dd089cd-5d83-44e4-e3b2-d306bd98d74e"
      },
      "source": [
        "!ls"
      ],
      "execution_count": null,
      "outputs": [
        {
          "output_type": "stream",
          "text": [
            " covid19related.png\t'datalab (1) (2).xlsx'\t'datalab (2).xlsx'\n",
            "'covidcount .csv'\t'datalab (1).xlsx'\t datalab.xlsx\n",
            "'datalab (1) (1).xlsx'\t'datalab (2) (1).xlsx'\t sample_data\n"
          ],
          "name": "stdout"
        }
      ]
    },
    {
      "cell_type": "code",
      "metadata": {
        "id": "RDC8fWdKT5Hd"
      },
      "source": [
        "data = pd.read_csv(\"covidcount .csv\")\n",
        "data\n",
        "covidcases = data[\"일별확진자\"]"
      ],
      "execution_count": null,
      "outputs": []
    },
    {
      "cell_type": "code",
      "metadata": {
        "id": "ATJyKmC17tmz"
      },
      "source": [
        "import matplotlib.pyplot as plt\n",
        "import datetime\n",
        "whole_search = []\n",
        "date = []\n",
        "for n in range(6, len(df2)):\n",
        "    ws = float(df2[n][1])\n",
        "    date_ = datetime.datetime.strptime(df2[n][0], \"%Y-%m-%d\").date()\n",
        "    whole_search.append(ws)\n",
        "    date.append(date_)"
      ],
      "execution_count": null,
      "outputs": []
    },
    {
      "cell_type": "code",
      "metadata": {
        "colab": {
          "base_uri": "https://localhost:8080/"
        },
        "id": "Mftpc-u9_Ilq",
        "outputId": "c0ae1c3c-88c7-443b-9b62-be3d114ac530"
      },
      "source": [
        "%matplotlib inline  \n",
        "\n",
        "import matplotlib as mpl  # 기본 설정 만지는 용도\n",
        "import matplotlib.pyplot as plt  # 그래프 그리는 용도\n",
        "import matplotlib.font_manager as fm  # 폰트 관련 용도\n",
        "print(mpl.__version__)\n",
        "!apt-get update -qq\n",
        "!apt-get install fonts-nanum* -qq\n"
      ],
      "execution_count": null,
      "outputs": [
        {
          "output_type": "stream",
          "text": [
            "3.2.2\n"
          ],
          "name": "stdout"
        }
      ]
    },
    {
      "cell_type": "code",
      "metadata": {
        "colab": {
          "base_uri": "https://localhost:8080/"
        },
        "id": "e1PCAjVV_PwL",
        "outputId": "c4b34a86-94eb-4df5-ae5d-b23fafb56cc6"
      },
      "source": [
        "sys_font=fm.findSystemFonts()\n",
        "nanum_font = [f for f in sys_font if 'Nanum' in f]\n",
        "nanum_font"
      ],
      "execution_count": null,
      "outputs": [
        {
          "output_type": "execute_result",
          "data": {
            "text/plain": [
              "['/usr/share/fonts/truetype/nanum/NanumGothicEcoBold.ttf',\n",
              " '/usr/share/fonts/truetype/nanum/NanumSquareRoundEB.ttf',\n",
              " '/usr/share/fonts/truetype/nanum/NanumPen.ttf',\n",
              " '/usr/share/fonts/truetype/nanum/NanumGothicBold.ttf',\n",
              " '/usr/share/fonts/truetype/nanum/NanumMyeongjo.ttf',\n",
              " '/usr/share/fonts/truetype/nanum/NanumMyeongjoEcoExtraBold.ttf',\n",
              " '/usr/share/fonts/truetype/nanum/NanumBarunGothic.ttf',\n",
              " '/usr/share/fonts/truetype/nanum/NanumBarunpenR.ttf',\n",
              " '/usr/share/fonts/truetype/nanum/NanumGothicCoding-Bold.ttf',\n",
              " '/usr/share/fonts/truetype/nanum/NanumSquareRoundR.ttf',\n",
              " '/usr/share/fonts/truetype/nanum/NanumGothicEco.ttf',\n",
              " '/usr/share/fonts/truetype/nanum/NanumMyeongjoEcoBold.ttf',\n",
              " '/usr/share/fonts/truetype/nanum/NanumSquareEB.ttf',\n",
              " '/usr/share/fonts/truetype/nanum/NanumBarunpenB.ttf',\n",
              " '/usr/share/fonts/truetype/nanum/NanumGothic.ttf',\n",
              " '/usr/share/fonts/truetype/nanum/NanumSquareRoundB.ttf',\n",
              " '/usr/share/fonts/truetype/nanum/NanumBarunGothicUltraLight.ttf',\n",
              " '/usr/share/fonts/truetype/nanum/NanumBrush.ttf',\n",
              " '/usr/share/fonts/truetype/nanum/NanumGothicCoding.ttf',\n",
              " '/usr/share/fonts/truetype/nanum/NanumSquareRoundL.ttf',\n",
              " '/usr/share/fonts/truetype/nanum/NanumSquareB.ttf',\n",
              " '/usr/share/fonts/truetype/nanum/NanumSquareR.ttf',\n",
              " '/usr/share/fonts/truetype/nanum/NanumGothicExtraBold.ttf',\n",
              " '/usr/share/fonts/truetype/nanum/NanumSquareL.ttf',\n",
              " '/usr/share/fonts/truetype/nanum/NanumMyeongjoEco.ttf',\n",
              " '/usr/share/fonts/truetype/nanum/NanumGothicLight.ttf',\n",
              " '/usr/share/fonts/truetype/nanum/NanumMyeongjoExtraBold.ttf',\n",
              " '/usr/share/fonts/truetype/nanum/NanumBarunGothicLight.ttf',\n",
              " '/usr/share/fonts/truetype/nanum/NanumBarunGothicBold.ttf',\n",
              " '/usr/share/fonts/truetype/nanum/NanumGothicEcoExtraBold.ttf',\n",
              " '/usr/share/fonts/truetype/nanum/NanumMyeongjoBold.ttf']"
            ]
          },
          "metadata": {
            "tags": []
          },
          "execution_count": 103
        }
      ]
    },
    {
      "cell_type": "code",
      "metadata": {
        "id": "TZKTkPvM_CGa"
      },
      "source": [
        "path = '/usr/share/fonts/truetype/nanum/NanumGothicEcoBold.ttf'  # 설치된 나눔글꼴중 원하는 녀석의 전체 경로를 가져오자\n",
        "font_name = fm.FontProperties(fname=path, size=5).get_name()\n",
        "fontprop = fm.FontProperties(fname=path, size=18)\n",
        "fontprops = fm.FontProperties(fname=path, size=13)\n",
        "plt.rc('font', family=font_name)\n",
        "fm._rebuild()"
      ],
      "execution_count": null,
      "outputs": []
    },
    {
      "cell_type": "code",
      "metadata": {
        "colab": {
          "base_uri": "https://localhost:8080/",
          "height": 339
        },
        "id": "AnG1iXoT-h6g",
        "outputId": "554252e7-b0c8-49e4-8dec-012e74b42712"
      },
      "source": [
        "fig,ax = plt.subplots()\n",
        "ax.plot(date, whole_search, label='integrated search', color=\"red\")\n",
        "ax.set_xlabel(\"날짜\",fontsize=6, fontproperties=fontprops)\n",
        "ax.set_ylabel(\"검색 비율\",color=\"red\",fontsize=6, fontproperties=fontprops)\n",
        "\n",
        "ax2 = ax.twinx()  # instantiate a second axes that shares the same x-axis\n",
        "ax2.bar(date, covidcases, label = \"daily covid case\", color=\"blue\")\n",
        "ax2.set_ylabel(\"일별확진자\",color=\"blue\",fontsize=10, fontproperties=fontprops)\n",
        "ax.set_xticklabels(date, rotation=45, ha='right')\n",
        "plt.title('코로나 관련 검색율과 일별확진자', fontproperties=fontprop)\n",
        "plt.legend()\n",
        "plt.savefig(\"FAICgraph.png\", dpi=300, bbox_inches = \"tight\")\n"
      ],
      "execution_count": 102,
      "outputs": [
        {
          "output_type": "display_data",
          "data": {
            "image/png": "[encoded data removed]",
            "text/plain": [
              "<Figure size 432x288 with 2 Axes>"
            ]
          },
          "metadata": {
            "tags": [],
            "needs_background": "light"
          }
        }
      ]
    },
    {
      "cell_type": "code",
      "metadata": {
        "colab": {
          "resources": {
            "http://localhost:8080/nbextensions/google.colab/files.js": {
              "data": "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",
              "ok": true,
              "headers": [
                [
                  "content-type",
                  "application/javascript"
                ]
              ],
              "status": 200,
              "status_text": ""
            }
          },
          "base_uri": "https://localhost:8080/",
          "height": 469
        },
        "id": "new3qibIxYeG",
        "outputId": "22ea0a0f-d032-4ad6-ed62-eb0ff8abe2ac"
      },
      "source": [
        "uploaded = files.upload()\r\n",
        "datatrend = pd.read_excel(io.BytesIO(uploaded['datalab (2).xlsx']))\r\n",
        "datatrend"
      ],
      "execution_count": null,
      "outputs": [
        {
          "output_type": "display_data",
          "data": {
            "text/html": [
              "\n",
              "     <input type=\"file\" id=\"files-1d38087a-d5bd-4dd8-a6f0-d6b899dc9795\" name=\"files[]\" multiple disabled\n",
              "        style=\"border:none\" />\n",
              "     <output id=\"result-1d38087a-d5bd-4dd8-a6f0-d6b899dc9795\">\n",
              "      Upload widget is only available when the cell has been executed in the\n",
              "      current browser session. Please rerun this cell to enable.\n",
              "      </output>\n",
              "      <script src=\"/nbextensions/google.colab/files.js\"></script> "
            ],
            "text/plain": [
              "<IPython.core.display.HTML object>"
            ]
          },
          "metadata": {
            "tags": []
          }
        },
        {
          "output_type": "stream",
          "text": [
            "Saving datalab (2).xlsx to datalab (2) (1).xlsx\n"
          ],
          "name": "stdout"
        },
        {
          "output_type": "execute_result",
          "data": {
            "text/html": [
              "<div>\n",
              "<style scoped>\n",
              "    .dataframe tbody tr th:only-of-type {\n",
              "        vertical-align: middle;\n",
              "    }\n",
              "\n",
              "    .dataframe tbody tr th {\n",
              "        vertical-align: top;\n",
              "    }\n",
              "\n",
              "    .dataframe thead th {\n",
              "        text-align: right;\n",
              "    }\n",
              "</style>\n",
              "<table border=\"1\" class=\"dataframe\">\n",
              "  <thead>\n",
              "    <tr style=\"text-align: right;\">\n",
              "      <th></th>\n",
              "      <th>날짜</th>\n",
              "      <th>코로나</th>\n",
              "      <th>날짜.1</th>\n",
              "      <th>폐렴</th>\n",
              "      <th>날짜.2</th>\n",
              "      <th>감기</th>\n",
              "      <th>날짜.3</th>\n",
              "      <th>전염병</th>\n",
              "    </tr>\n",
              "  </thead>\n",
              "  <tbody>\n",
              "    <tr>\n",
              "      <th>0</th>\n",
              "      <td>2019-12-10</td>\n",
              "      <td>0.00352</td>\n",
              "      <td>2019-12-10</td>\n",
              "      <td>0.03924</td>\n",
              "      <td>2019-12-10</td>\n",
              "      <td>0.01260</td>\n",
              "      <td>2019-12-10</td>\n",
              "      <td>0.00181</td>\n",
              "    </tr>\n",
              "    <tr>\n",
              "      <th>1</th>\n",
              "      <td>2019-12-11</td>\n",
              "      <td>0.00318</td>\n",
              "      <td>2019-12-11</td>\n",
              "      <td>0.03931</td>\n",
              "      <td>2019-12-11</td>\n",
              "      <td>0.01260</td>\n",
              "      <td>2019-12-11</td>\n",
              "      <td>0.00224</td>\n",
              "    </tr>\n",
              "    <tr>\n",
              "      <th>2</th>\n",
              "      <td>2019-12-12</td>\n",
              "      <td>0.00295</td>\n",
              "      <td>2019-12-12</td>\n",
              "      <td>0.03888</td>\n",
              "      <td>2019-12-12</td>\n",
              "      <td>0.01258</td>\n",
              "      <td>2019-12-12</td>\n",
              "      <td>0.00182</td>\n",
              "    </tr>\n",
              "    <tr>\n",
              "      <th>3</th>\n",
              "      <td>2019-12-13</td>\n",
              "      <td>0.00294</td>\n",
              "      <td>2019-12-13</td>\n",
              "      <td>0.03708</td>\n",
              "      <td>2019-12-13</td>\n",
              "      <td>0.01282</td>\n",
              "      <td>2019-12-13</td>\n",
              "      <td>0.00162</td>\n",
              "    </tr>\n",
              "    <tr>\n",
              "      <th>4</th>\n",
              "      <td>2019-12-14</td>\n",
              "      <td>0.00290</td>\n",
              "      <td>2019-12-14</td>\n",
              "      <td>0.02918</td>\n",
              "      <td>2019-12-14</td>\n",
              "      <td>0.01024</td>\n",
              "      <td>2019-12-14</td>\n",
              "      <td>0.00133</td>\n",
              "    </tr>\n",
              "    <tr>\n",
              "      <th>...</th>\n",
              "      <td>...</td>\n",
              "      <td>...</td>\n",
              "      <td>...</td>\n",
              "      <td>...</td>\n",
              "      <td>...</td>\n",
              "      <td>...</td>\n",
              "      <td>...</td>\n",
              "      <td>...</td>\n",
              "    </tr>\n",
              "    <tr>\n",
              "      <th>362</th>\n",
              "      <td>2020-12-06</td>\n",
              "      <td>16.35020</td>\n",
              "      <td>2020-12-06</td>\n",
              "      <td>0.04908</td>\n",
              "      <td>2020-12-06</td>\n",
              "      <td>0.00856</td>\n",
              "      <td>2020-12-06</td>\n",
              "      <td>0.02371</td>\n",
              "    </tr>\n",
              "    <tr>\n",
              "      <th>363</th>\n",
              "      <td>2020-12-07</td>\n",
              "      <td>16.13706</td>\n",
              "      <td>2020-12-07</td>\n",
              "      <td>0.04968</td>\n",
              "      <td>2020-12-07</td>\n",
              "      <td>0.01346</td>\n",
              "      <td>2020-12-07</td>\n",
              "      <td>0.02926</td>\n",
              "    </tr>\n",
              "    <tr>\n",
              "      <th>364</th>\n",
              "      <td>2020-12-08</td>\n",
              "      <td>13.81397</td>\n",
              "      <td>2020-12-08</td>\n",
              "      <td>0.04945</td>\n",
              "      <td>2020-12-08</td>\n",
              "      <td>0.01262</td>\n",
              "      <td>2020-12-08</td>\n",
              "      <td>0.02837</td>\n",
              "    </tr>\n",
              "    <tr>\n",
              "      <th>365</th>\n",
              "      <td>2020-12-09</td>\n",
              "      <td>14.34127</td>\n",
              "      <td>2020-12-09</td>\n",
              "      <td>0.04642</td>\n",
              "      <td>2020-12-09</td>\n",
              "      <td>0.01206</td>\n",
              "      <td>2020-12-09</td>\n",
              "      <td>0.02726</td>\n",
              "    </tr>\n",
              "    <tr>\n",
              "      <th>366</th>\n",
              "      <td>2020-12-10</td>\n",
              "      <td>14.33150</td>\n",
              "      <td>2020-12-10</td>\n",
              "      <td>0.04975</td>\n",
              "      <td>2020-12-10</td>\n",
              "      <td>0.01374</td>\n",
              "      <td>2020-12-10</td>\n",
              "      <td>0.02699</td>\n",
              "    </tr>\n",
              "  </tbody>\n",
              "</table>\n",
              "<p>367 rows × 8 columns</p>\n",
              "</div>"
            ],
            "text/plain": [
              "             날짜       코로나        날짜.1  ...       감기        날짜.3      전염병\n",
              "0    2019-12-10   0.00352  2019-12-10  ...  0.01260  2019-12-10  0.00181\n",
              "1    2019-12-11   0.00318  2019-12-11  ...  0.01260  2019-12-11  0.00224\n",
              "2    2019-12-12   0.00295  2019-12-12  ...  0.01258  2019-12-12  0.00182\n",
              "3    2019-12-13   0.00294  2019-12-13  ...  0.01282  2019-12-13  0.00162\n",
              "4    2019-12-14   0.00290  2019-12-14  ...  0.01024  2019-12-14  0.00133\n",
              "..          ...       ...         ...  ...      ...         ...      ...\n",
              "362  2020-12-06  16.35020  2020-12-06  ...  0.00856  2020-12-06  0.02371\n",
              "363  2020-12-07  16.13706  2020-12-07  ...  0.01346  2020-12-07  0.02926\n",
              "364  2020-12-08  13.81397  2020-12-08  ...  0.01262  2020-12-08  0.02837\n",
              "365  2020-12-09  14.34127  2020-12-09  ...  0.01206  2020-12-09  0.02726\n",
              "366  2020-12-10  14.33150  2020-12-10  ...  0.01374  2020-12-10  0.02699\n",
              "\n",
              "[367 rows x 8 columns]"
            ]
          },
          "metadata": {
            "tags": []
          },
          "execution_count": 17
        }
      ]
    },
    {
      "cell_type": "code",
      "metadata": {
        "colab": {
          "base_uri": "https://localhost:8080/"
        },
        "id": "rQKC6k-KzWwk",
        "outputId": "07e67f12-6f6e-4bf5-d273-59fb89b0459f"
      },
      "source": [
        "datatrend = pd.DataFrame.to_numpy(datatrend)\r\n",
        "datatrend"
      ],
      "execution_count": null,
      "outputs": [
        {
          "output_type": "execute_result",
          "data": {
            "text/plain": [
              "array([['2019-12-10', 0.00352, '2019-12-10', ..., 0.0126, '2019-12-10',\n",
              "        0.0018100000000000002],\n",
              "       ['2019-12-11', 0.00318, '2019-12-11', ..., 0.0126, '2019-12-11',\n",
              "        0.00224],\n",
              "       ['2019-12-12', 0.00295, '2019-12-12', ..., 0.01258, '2019-12-12',\n",
              "        0.00182],\n",
              "       ...,\n",
              "       ['2020-12-08', 13.813970000000001, '2020-12-08', ...,\n",
              "        0.012620000000000001, '2020-12-08', 0.02837],\n",
              "       ['2020-12-09', 14.341270000000002, '2020-12-09', ..., 0.01206,\n",
              "        '2020-12-09', 0.027260000000000003],\n",
              "       ['2020-12-10', 14.3315, '2020-12-10', ..., 0.01374, '2020-12-10',\n",
              "        0.026989999999999997]], dtype=object)"
            ]
          },
          "metadata": {
            "tags": []
          },
          "execution_count": 31
        }
      ]
    },
    {
      "cell_type": "code",
      "metadata": {
        "colab": {
          "base_uri": "https://localhost:8080/",
          "height": 300
        },
        "id": "njJ8hzxVzlUM",
        "outputId": "d6c4b451-3748-43bb-a90c-43f128218e48"
      },
      "source": [
        "코로나 = []\r\n",
        "전염병 = []\r\n",
        "감기 = []\r\n",
        "폐렴 = []\r\n",
        "date = []\r\n",
        "for n in range(len(datatrend)):\r\n",
        "    covid = float(datatrend[n][1])\r\n",
        "    inf = float(datatrend[n][7])\r\n",
        "    flu = float(datatrend[n][5])\r\n",
        "    pneu = float(datatrend[n][3])\r\n",
        "    date_ = datetime.datetime.strptime(datatrend[n][0], \"%Y-%m-%d\").date()\r\n",
        "    date.append(date_)\r\n",
        "    코로나.append(covid)\r\n",
        "    전염병.append(inf)\r\n",
        "    감기.append(flu)\r\n",
        "    폐렴.append(pneu)\r\n",
        "plt.rcParams['font.family'] = 'NanumGothicEco'\r\n",
        "plt.rcParams['font.size'] = 8\r\n",
        "fm._rebuild()\r\n",
        "plt.figure()\r\n",
        "plt.plot(date, 코로나, label = 'covid', color ='blue')\r\n",
        "plt.plot(date, 전염병, label = 'inf', color = 'cyan')\r\n",
        "plt.plot(date, 감기, label = 'flu', color = 'red')\r\n",
        "plt.plot(date, 폐렴, label = 'pneu', color = 'green')\r\n",
        "plt.legend()\r\n",
        "plt.xlabel('날짜', fontproperties=fontprops)\r\n",
        "plt.ylabel('검색비율', fontproperties=fontprops)\r\n",
        "plt.title('코로나 관련 검색어 추이',  fontproperties=fontprop)\r\n",
        "plt.savefig(\"covid19related.png\", dpi=300, figsize=(30,40))"
      ],
      "execution_count": null,
      "outputs": [
        {
          "output_type": "display_data",
          "data": {
            "image/png": "[encoded data removed]",
            "text/plain": [
              "<Figure size 432x288 with 1 Axes>"
            ]
          },
          "metadata": {
            "tags": [],
            "needs_background": "light"
          }
        }
      ]
    },
    {
      "cell_type": "code",
      "metadata": {
        "id": "On2CaTKYBL6d"
      },
      "source": [
        ""
      ],
      "execution_count": null,
      "outputs": []
    }
  ]
}