{
  "nbformat": 4,
  "nbformat_minor": 0,
  "metadata": {
    "colab": {
      "name": "코로나확진자(API).ipynb",
      "provenance": []
    },
    "kernelspec": {
      "name": "python3",
      "display_name": "Python 3"
    }
  },
  "cells": [
    {
      "cell_type": "code",
      "metadata": {
        "id": "acmg-e2iNl-4"
      },
      "source": [
        "# import는 cell 분리하는 게 좋습니다.\n",
        "\n",
        "import requests, bs4\n",
        "import pandas as pd\n",
        "from lxml import html\n",
        "from urllib.request import Request, urlopen\n",
        "from urllib.parse import urlencode, quote_plus, unquote"
      ],
      "execution_count": null,
      "outputs": []
    },
    {
      "cell_type": "code",
      "metadata": {
        "colab": {
          "base_uri": "https://localhost:8080/"
        },
        "id": "iQVtOqRDiWdS",
        "outputId": "8af52aa0-79f7-4c35-e7c9-6301daf63a72"
      },
      "source": [
        "# 1. URL 파라미터 분리하기.\n",
        "# Service URL\n",
        "xmlUrl = 'http://openapi.data.go.kr/openapi/service/rest/Covid19/getCovid19InfStateJson'\n",
        "\n",
        "MY_API_KEY='IHSiw9Rjbv66FORTPF6LjH3K%2FFPi5LXPibUqh3dA9GOh%2FMwyMy4YVVCjTIolPwpqACy%2BRr4fc0oo3Jns4w1hgg%3D%3D'\n",
        "\n",
        "\n",
        "queryParams = '?' + urlencode(   \n",
        "    {\n",
        "        quote_plus('serviceKey') : MY_API_KEY,    \n",
        "        quote_plus('pageNo') : '1',\n",
        "        quote_plus('numOfRows') : '10', \n",
        "        quote_plus('startCreateDt') : '20200310', \n",
        "        quote_plus('endCreateDt') : '20201210'\n",
        "     }\n",
        ")\n",
        "\n",
        "print(xmlUrl+queryParams)\n",
        "\n",
        "response = requests.get(xmlUrl + queryParams).text.encode('utf-8')\n",
        "xmlobj = bs4.BeautifulSoup(response, 'lxml-xml')"
      ],
      "execution_count": null,
      "outputs": [
        {
          "output_type": "stream",
          "text": [
            "http://openapi.data.go.kr/openapi/service/rest/Covid19/getCovid19InfStateJson?serviceKey=IHSiw9Rjbv66FORTPF6LjH3K%252FFPi5LXPibUqh3dA9GOh%252FMwyMy4YVVCjTIolPwpqACy%252BRr4fc0oo3Jns4w1hgg%253D%253D&pageNo=1&numOfRows=10&startCreateDt=20200310&endCreateDt=20201210\n"
          ],
          "name": "stdout"
        }
      ]
    },
    {
      "cell_type": "code",
      "metadata": {
        "id": "lNII0bd9Oj5g"
      },
      "source": [
        "xmlUrl = 'http://openapi.data.go.kr/openapi/service/rest/Covid19/getCovid19InfStateJson'\n",
        "\n",
        "MY_API_KEY='IHSiw9Rjbv66FORTPF6LjH3K%2FFPi5LXPibUqh3dA9GOh%2FMwyMy4YVVCjTIolPwpqACy%2BRr4fc0oo3Jns4w1hgg%3D%3D'\n",
        "\n",
        "\n",
        "res_url = xmlUrl+\"?serviceKey=\"+MY_API_KEY+\"&pageNo=1&numOfRows=10&startCreateDt=20200310&endCreateDt=20201210\"\n",
        "\n",
        "response = requests.get(res_url).text.encode('utf-8')\n",
        "xmlobj = bs4.BeautifulSoup(response, 'lxml-xml')"
      ],
      "execution_count": null,
      "outputs": []
    },
    {
      "cell_type": "code",
      "metadata": {
        "id": "z3ist5imcdJV",
        "colab": {
          "base_uri": "https://localhost:8080/",
          "height": 450
        },
        "outputId": "330ce563-6daf-456b-edac-87f98d1bbf79"
      },
      "source": [
        "rows = xmlobj.findAll('item')\n",
        "columns = rows[0].find_all()\n",
        "\n",
        "rowList= []\n",
        "nameList = []\n",
        "columnList = []\n",
        "\n",
        "rowsLen = len(rows)\n",
        "for i in range(0, rowsLen):\n",
        "    columns = rows[i].find_all()\n",
        "\n",
        "    columnsLen = len(columns)\n",
        "    for j in range(0, columnsLen):\n",
        "        if i == 0:\n",
        "            nameList.append(columns[j].name)\n",
        "        eachColumn = columns[j].text\n",
        "        columnList.append(eachColumn)\n",
        "    rowList.append(columnList)\n",
        "    columnList = []   \n",
        "    \n",
        "df = pd.DataFrame(rowList, columns=nameList)\n",
        "df2 = df[['stateDt', 'decideCnt']]\n",
        "df2 = df2.astype({\"stateDt\": int, \"decideCnt\": int})\n",
        "\n",
        "df2 = df2.rename(columns={\"stateDt\": \"날짜\", \"decideCnt\": \"누적확진자\"})\n",
        "df2 = df2.sort_values(by= \"날짜\", ascending = True)\n",
        "df2 = df2.set_index(\"날짜\")\n",
        "df2['일별확진자']=abs(df2['누적확진자'] - df2['누적확진자'].shift(-1))\n",
        "\n",
        "df2\n"
      ],
      "execution_count": null,
      "outputs": [
        {
          "output_type": "execute_result",
          "data": {
            "text/html": [
              "<div>\n",
              "<style scoped>\n",
              "    .dataframe tbody tr th:only-of-type {\n",
              "        vertical-align: middle;\n",
              "    }\n",
              "\n",
              "    .dataframe tbody tr th {\n",
              "        vertical-align: top;\n",
              "    }\n",
              "\n",
              "    .dataframe thead th {\n",
              "        text-align: right;\n",
              "    }\n",
              "</style>\n",
              "<table border=\"1\" class=\"dataframe\">\n",
              "  <thead>\n",
              "    <tr style=\"text-align: right;\">\n",
              "      <th></th>\n",
              "      <th>누적확진자</th>\n",
              "      <th>일별확진자</th>\n",
              "    </tr>\n",
              "    <tr>\n",
              "      <th>날짜</th>\n",
              "      <th></th>\n",
              "      <th></th>\n",
              "    </tr>\n",
              "  </thead>\n",
              "  <tbody>\n",
              "    <tr>\n",
              "      <th>20200310</th>\n",
              "      <td>7513</td>\n",
              "      <td>242.0</td>\n",
              "    </tr>\n",
              "    <tr>\n",
              "      <th>20200311</th>\n",
              "      <td>7755</td>\n",
              "      <td>114.0</td>\n",
              "    </tr>\n",
              "    <tr>\n",
              "      <th>20200312</th>\n",
              "      <td>7869</td>\n",
              "      <td>110.0</td>\n",
              "    </tr>\n",
              "    <tr>\n",
              "      <th>20200313</th>\n",
              "      <td>7979</td>\n",
              "      <td>107.0</td>\n",
              "    </tr>\n",
              "    <tr>\n",
              "      <th>20200314</th>\n",
              "      <td>8086</td>\n",
              "      <td>76.0</td>\n",
              "    </tr>\n",
              "    <tr>\n",
              "      <th>...</th>\n",
              "      <td>...</td>\n",
              "      <td>...</td>\n",
              "    </tr>\n",
              "    <tr>\n",
              "      <th>20201206</th>\n",
              "      <td>37546</td>\n",
              "      <td>615.0</td>\n",
              "    </tr>\n",
              "    <tr>\n",
              "      <th>20201207</th>\n",
              "      <td>38161</td>\n",
              "      <td>585.0</td>\n",
              "    </tr>\n",
              "    <tr>\n",
              "      <th>20201208</th>\n",
              "      <td>38746</td>\n",
              "      <td>686.0</td>\n",
              "    </tr>\n",
              "    <tr>\n",
              "      <th>20201209</th>\n",
              "      <td>39432</td>\n",
              "      <td>666.0</td>\n",
              "    </tr>\n",
              "    <tr>\n",
              "      <th>20201210</th>\n",
              "      <td>40098</td>\n",
              "      <td>NaN</td>\n",
              "    </tr>\n",
              "  </tbody>\n",
              "</table>\n",
              "<p>283 rows × 2 columns</p>\n",
              "</div>"
            ],
            "text/plain": [
              "          누적확진자  일별확진자\n",
              "날짜                    \n",
              "20200310   7513  242.0\n",
              "20200311   7755  114.0\n",
              "20200312   7869  110.0\n",
              "20200313   7979  107.0\n",
              "20200314   8086   76.0\n",
              "...         ...    ...\n",
              "20201206  37546  615.0\n",
              "20201207  38161  585.0\n",
              "20201208  38746  686.0\n",
              "20201209  39432  666.0\n",
              "20201210  40098    NaN\n",
              "\n",
              "[283 rows x 2 columns]"
            ]
          },
          "metadata": {
            "tags": []
          },
          "execution_count": 41
        }
      ]
    },
    {
      "cell_type": "code",
      "metadata": {
        "colab": {
          "base_uri": "https://localhost:8080/"
        },
        "id": "1rmXULpWFikE",
        "outputId": "ce73acb2-b87a-415f-c20a-d35e4b0308aa"
      },
      "source": [
        "from google.colab import drive\n",
        "drive.mount('/content/drive')"
      ],
      "execution_count": null,
      "outputs": [
        {
          "output_type": "stream",
          "text": [
            "Mounted at /content/drive\n"
          ],
          "name": "stdout"
        }
      ]
    },
    {
      "cell_type": "code",
      "metadata": {
        "colab": {
          "base_uri": "https://localhost:8080/",
          "height": 17
        },
        "id": "ScEBpb4BGe75",
        "outputId": "ce63901e-3fec-4b21-c6ea-8a680e896cfd"
      },
      "source": [
        "df2.to_csv(\"covidcount.csv\")\n",
        "from google.colab import files\n",
        "files.download(\"covidcount.csv\")"
      ],
      "execution_count": null,
      "outputs": [
        {
          "output_type": "display_data",
          "data": {
            "application/javascript": [
              "\n",
              "    async function download(id, filename, size) {\n",
              "      if (!google.colab.kernel.accessAllowed) {\n",
              "        return;\n",
              "      }\n",
              "      const div = document.createElement('div');\n",
              "      const label = document.createElement('label');\n",
              "      label.textContent = `Downloading \"${filename}\": `;\n",
              "      div.appendChild(label);\n",
              "      const progress = document.createElement('progress');\n",
              "      progress.max = size;\n",
              "      div.appendChild(progress);\n",
              "      document.body.appendChild(div);\n",
              "\n",
              "      const buffers = [];\n",
              "      let downloaded = 0;\n",
              "\n",
              "      const channel = await google.colab.kernel.comms.open(id);\n",
              "      // Send a message to notify the kernel that we're ready.\n",
              "      channel.send({})\n",
              "\n",
              "      for await (const message of channel.messages) {\n",
              "        // Send a message to notify the kernel that we're ready.\n",
              "        channel.send({})\n",
              "        if (message.buffers) {\n",
              "          for (const buffer of message.buffers) {\n",
              "            buffers.push(buffer);\n",
              "            downloaded += buffer.byteLength;\n",
              "            progress.value = downloaded;\n",
              "          }\n",
              "        }\n",
              "      }\n",
              "      const blob = new Blob(buffers, {type: 'application/binary'});\n",
              "      const a = document.createElement('a');\n",
              "      a.href = window.URL.createObjectURL(blob);\n",
              "      a.download = filename;\n",
              "      div.appendChild(a);\n",
              "      a.click();\n",
              "      div.remove();\n",
              "    }\n",
              "  "
            ],
            "text/plain": [
              "<IPython.core.display.Javascript object>"
            ]
          },
          "metadata": {
            "tags": []
          }
        },
        {
          "output_type": "display_data",
          "data": {
            "application/javascript": [
              "download(\"download_2f0a2e0a-6360-454d-a966-73486910414d\", \"covidcount.csv\", 5755)"
            ],
            "text/plain": [
              "<IPython.core.display.Javascript object>"
            ]
          },
          "metadata": {
            "tags": []
          }
        }
      ]
    }
  ]
}